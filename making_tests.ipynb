{
 "cells": [
  {
   "cell_type": "code",
   "execution_count": 1,
   "metadata": {},
   "outputs": [],
   "source": [
    "import numpy as np\n",
    "import pandas as pd"
   ]
  },
  {
   "cell_type": "code",
   "execution_count": 2,
   "metadata": {},
   "outputs": [],
   "source": [
    "file = open(\"samplesCongCube.txt\")\n",
    "samplesCongCube = file.readlines()\n",
    "file.close()\n",
    "\n",
    "file = open(\"sampleCong.txt\")\n",
    "samplesCong = file.readlines()\n",
    "file.close()"
   ]
  },
  {
   "cell_type": "markdown",
   "metadata": {},
   "source": [
    "## Среднее, отклонение и коэффициент вариации"
   ]
  },
  {
   "cell_type": "code",
   "execution_count": 3,
   "metadata": {},
   "outputs": [],
   "source": [
    "params = {\"CONG_XOR\": [], \"CONG_CUBE\": []}"
   ]
  },
  {
   "cell_type": "code",
   "execution_count": 4,
   "metadata": {},
   "outputs": [],
   "source": [
    "for line in samplesCong:\n",
    "    p = {}\n",
    "    line = line.replace(\" \\n\", \"\")\n",
    "    sample = np.array(list(map(int, line.split(\" \"))))\n",
    "    p[\"mean\"] = round(sample.mean(), 3)\n",
    "    p[\"std\"] = round(sample.std(), 3)\n",
    "    p[\"cv\"] = round(p[\"std\"] / p[\"mean\"], 3)\n",
    "    params[\"CONG_XOR\"].append(p)"
   ]
  },
  {
   "cell_type": "code",
   "execution_count": 5,
   "metadata": {},
   "outputs": [],
   "source": [
    "for line in samplesCongCube:\n",
    "    p = {}\n",
    "    line = line.replace(\" \\n\", \"\")\n",
    "    sample = np.array(list(map(int, line.split(\" \"))))\n",
    "    p[\"mean\"] = round(sample.mean(), 2)\n",
    "    p[\"std\"] = round(sample.std(), 2)\n",
    "    p[\"cv\"] = round(p[\"std\"] / p[\"mean\"], 2)\n",
    "    params[\"CONG_CUBE\"].append(p)"
   ]
  },
  {
   "cell_type": "code",
   "execution_count": 6,
   "metadata": {},
   "outputs": [],
   "source": [
    "pd.options.display.float_format ='{:,.3f}'.format"
   ]
  },
  {
   "cell_type": "code",
   "execution_count": 33,
   "metadata": {},
   "outputs": [
    {
     "data": {
      "text/html": [
       "<div>\n",
       "<style scoped>\n",
       "    .dataframe tbody tr th:only-of-type {\n",
       "        vertical-align: middle;\n",
       "    }\n",
       "\n",
       "    .dataframe tbody tr th {\n",
       "        vertical-align: top;\n",
       "    }\n",
       "\n",
       "    .dataframe thead th {\n",
       "        text-align: right;\n",
       "    }\n",
       "</style>\n",
       "<table border=\"1\" class=\"dataframe\">\n",
       "  <thead>\n",
       "    <tr style=\"text-align: right;\">\n",
       "      <th></th>\n",
       "      <th>1</th>\n",
       "      <th>2</th>\n",
       "      <th>3</th>\n",
       "      <th>4</th>\n",
       "      <th>5</th>\n",
       "      <th>6</th>\n",
       "      <th>7</th>\n",
       "      <th>8</th>\n",
       "      <th>9</th>\n",
       "      <th>10</th>\n",
       "      <th>11</th>\n",
       "      <th>12</th>\n",
       "      <th>13</th>\n",
       "      <th>14</th>\n",
       "      <th>15</th>\n",
       "      <th>16</th>\n",
       "      <th>17</th>\n",
       "      <th>18</th>\n",
       "      <th>19</th>\n",
       "      <th>20</th>\n",
       "    </tr>\n",
       "  </thead>\n",
       "  <tbody>\n",
       "    <tr>\n",
       "      <th>mean</th>\n",
       "      <td>1,118,556,390.330</td>\n",
       "      <td>1,140,955,613.920</td>\n",
       "      <td>1,125,739,970.520</td>\n",
       "      <td>1,027,540,850.580</td>\n",
       "      <td>1,079,252,780.330</td>\n",
       "      <td>1,130,928,580.590</td>\n",
       "      <td>1,121,178,527.720</td>\n",
       "      <td>1,019,584,019.640</td>\n",
       "      <td>935,803,772.290</td>\n",
       "      <td>997,595,342.320</td>\n",
       "      <td>1,056,456,514.040</td>\n",
       "      <td>1,005,810,470.900</td>\n",
       "      <td>1,153,955,613.630</td>\n",
       "      <td>1,071,429,926.410</td>\n",
       "      <td>1,136,826,852.510</td>\n",
       "      <td>991,532,065.930</td>\n",
       "      <td>1,171,088,793.590</td>\n",
       "      <td>1,100,321,351.980</td>\n",
       "      <td>1,074,005,720.840</td>\n",
       "      <td>1,147,852,394.820</td>\n",
       "    </tr>\n",
       "    <tr>\n",
       "      <th>std</th>\n",
       "      <td>640,276,255.978</td>\n",
       "      <td>645,291,501.218</td>\n",
       "      <td>607,773,799.720</td>\n",
       "      <td>625,645,315.310</td>\n",
       "      <td>593,357,340.963</td>\n",
       "      <td>617,715,535.678</td>\n",
       "      <td>619,087,269.389</td>\n",
       "      <td>656,992,598.306</td>\n",
       "      <td>576,741,682.533</td>\n",
       "      <td>623,784,252.973</td>\n",
       "      <td>616,012,123.095</td>\n",
       "      <td>589,480,940.530</td>\n",
       "      <td>623,089,301.323</td>\n",
       "      <td>597,089,452.091</td>\n",
       "      <td>587,023,008.869</td>\n",
       "      <td>622,769,451.005</td>\n",
       "      <td>575,746,240.492</td>\n",
       "      <td>660,857,677.830</td>\n",
       "      <td>598,409,813.097</td>\n",
       "      <td>635,176,323.901</td>\n",
       "    </tr>\n",
       "    <tr>\n",
       "      <th>cv</th>\n",
       "      <td>0.572</td>\n",
       "      <td>0.566</td>\n",
       "      <td>0.540</td>\n",
       "      <td>0.609</td>\n",
       "      <td>0.550</td>\n",
       "      <td>0.546</td>\n",
       "      <td>0.552</td>\n",
       "      <td>0.644</td>\n",
       "      <td>0.616</td>\n",
       "      <td>0.625</td>\n",
       "      <td>0.583</td>\n",
       "      <td>0.586</td>\n",
       "      <td>0.540</td>\n",
       "      <td>0.557</td>\n",
       "      <td>0.516</td>\n",
       "      <td>0.628</td>\n",
       "      <td>0.492</td>\n",
       "      <td>0.601</td>\n",
       "      <td>0.557</td>\n",
       "      <td>0.553</td>\n",
       "    </tr>\n",
       "  </tbody>\n",
       "</table>\n",
       "</div>"
      ],
      "text/plain": [
       "                     1                 2                 3                 4  \\\n",
       "mean 1,118,556,390.330 1,140,955,613.920 1,125,739,970.520 1,027,540,850.580   \n",
       "std    640,276,255.978   645,291,501.218   607,773,799.720   625,645,315.310   \n",
       "cv               0.572             0.566             0.540             0.609   \n",
       "\n",
       "                     5                 6                 7                 8  \\\n",
       "mean 1,079,252,780.330 1,130,928,580.590 1,121,178,527.720 1,019,584,019.640   \n",
       "std    593,357,340.963   617,715,535.678   619,087,269.389   656,992,598.306   \n",
       "cv               0.550             0.546             0.552             0.644   \n",
       "\n",
       "                   9              10                11                12  \\\n",
       "mean 935,803,772.290 997,595,342.320 1,056,456,514.040 1,005,810,470.900   \n",
       "std  576,741,682.533 623,784,252.973   616,012,123.095   589,480,940.530   \n",
       "cv             0.616           0.625             0.583             0.586   \n",
       "\n",
       "                    13                14                15              16  \\\n",
       "mean 1,153,955,613.630 1,071,429,926.410 1,136,826,852.510 991,532,065.930   \n",
       "std    623,089,301.323   597,089,452.091   587,023,008.869 622,769,451.005   \n",
       "cv               0.540             0.557             0.516           0.628   \n",
       "\n",
       "                    17                18                19                20  \n",
       "mean 1,171,088,793.590 1,100,321,351.980 1,074,005,720.840 1,147,852,394.820  \n",
       "std    575,746,240.492   660,857,677.830   598,409,813.097   635,176,323.901  \n",
       "cv               0.492             0.601             0.557             0.553  "
      ]
     },
     "execution_count": 33,
     "metadata": {},
     "output_type": "execute_result"
    }
   ],
   "source": [
    "df = {f'{i+1}': params[\"CONG_XOR\"][i].values() for i in range(20)}\n",
    "df = pd.DataFrame(data=df, index=params['CONG_XOR'][0])\n",
    "df"
   ]
  },
  {
   "cell_type": "code",
   "execution_count": 34,
   "metadata": {},
   "outputs": [
    {
     "data": {
      "text/html": [
       "<div>\n",
       "<style scoped>\n",
       "    .dataframe tbody tr th:only-of-type {\n",
       "        vertical-align: middle;\n",
       "    }\n",
       "\n",
       "    .dataframe tbody tr th {\n",
       "        vertical-align: top;\n",
       "    }\n",
       "\n",
       "    .dataframe thead th {\n",
       "        text-align: right;\n",
       "    }\n",
       "</style>\n",
       "<table border=\"1\" class=\"dataframe\">\n",
       "  <thead>\n",
       "    <tr style=\"text-align: right;\">\n",
       "      <th></th>\n",
       "      <th>1</th>\n",
       "      <th>2</th>\n",
       "      <th>3</th>\n",
       "      <th>4</th>\n",
       "      <th>5</th>\n",
       "      <th>6</th>\n",
       "      <th>7</th>\n",
       "      <th>8</th>\n",
       "      <th>9</th>\n",
       "      <th>10</th>\n",
       "      <th>11</th>\n",
       "      <th>12</th>\n",
       "      <th>13</th>\n",
       "      <th>14</th>\n",
       "      <th>15</th>\n",
       "      <th>16</th>\n",
       "      <th>17</th>\n",
       "      <th>18</th>\n",
       "      <th>19</th>\n",
       "      <th>20</th>\n",
       "    </tr>\n",
       "  </thead>\n",
       "  <tbody>\n",
       "    <tr>\n",
       "      <th>mean</th>\n",
       "      <td>1,015,161,132.450</td>\n",
       "      <td>1,105,775,556.130</td>\n",
       "      <td>1,043,311,421.280</td>\n",
       "      <td>1,053,114,978.390</td>\n",
       "      <td>1,092,282,335.870</td>\n",
       "      <td>1,041,384,225.650</td>\n",
       "      <td>980,513,545.050</td>\n",
       "      <td>1,049,358,945.820</td>\n",
       "      <td>1,097,741,569.860</td>\n",
       "      <td>1,175,624,153.760</td>\n",
       "      <td>1,142,660,319.150</td>\n",
       "      <td>1,068,924,110.440</td>\n",
       "      <td>1,066,858,960.420</td>\n",
       "      <td>1,020,120,869.110</td>\n",
       "      <td>1,236,302,221.720</td>\n",
       "      <td>1,033,403,432.980</td>\n",
       "      <td>1,057,157,956.860</td>\n",
       "      <td>1,098,384,529.410</td>\n",
       "      <td>1,047,938,808.320</td>\n",
       "      <td>1,043,651,859.400</td>\n",
       "    </tr>\n",
       "    <tr>\n",
       "      <th>std</th>\n",
       "      <td>601,620,111.480</td>\n",
       "      <td>600,829,294.510</td>\n",
       "      <td>665,728,461.740</td>\n",
       "      <td>604,717,018.490</td>\n",
       "      <td>620,547,647.080</td>\n",
       "      <td>629,714,618.400</td>\n",
       "      <td>619,848,182.780</td>\n",
       "      <td>624,151,288.160</td>\n",
       "      <td>611,418,815.930</td>\n",
       "      <td>606,726,822.510</td>\n",
       "      <td>584,575,765.460</td>\n",
       "      <td>574,228,358.050</td>\n",
       "      <td>604,348,987.940</td>\n",
       "      <td>577,466,664.250</td>\n",
       "      <td>566,424,162.110</td>\n",
       "      <td>603,678,942.750</td>\n",
       "      <td>652,997,474.550</td>\n",
       "      <td>647,633,855.670</td>\n",
       "      <td>621,340,846.210</td>\n",
       "      <td>634,045,076.100</td>\n",
       "    </tr>\n",
       "    <tr>\n",
       "      <th>cv</th>\n",
       "      <td>0.590</td>\n",
       "      <td>0.540</td>\n",
       "      <td>0.640</td>\n",
       "      <td>0.570</td>\n",
       "      <td>0.570</td>\n",
       "      <td>0.600</td>\n",
       "      <td>0.630</td>\n",
       "      <td>0.590</td>\n",
       "      <td>0.560</td>\n",
       "      <td>0.520</td>\n",
       "      <td>0.510</td>\n",
       "      <td>0.540</td>\n",
       "      <td>0.570</td>\n",
       "      <td>0.570</td>\n",
       "      <td>0.460</td>\n",
       "      <td>0.580</td>\n",
       "      <td>0.620</td>\n",
       "      <td>0.590</td>\n",
       "      <td>0.590</td>\n",
       "      <td>0.610</td>\n",
       "    </tr>\n",
       "  </tbody>\n",
       "</table>\n",
       "</div>"
      ],
      "text/plain": [
       "                     1                 2                 3                 4  \\\n",
       "mean 1,015,161,132.450 1,105,775,556.130 1,043,311,421.280 1,053,114,978.390   \n",
       "std    601,620,111.480   600,829,294.510   665,728,461.740   604,717,018.490   \n",
       "cv               0.590             0.540             0.640             0.570   \n",
       "\n",
       "                     5                 6               7                 8  \\\n",
       "mean 1,092,282,335.870 1,041,384,225.650 980,513,545.050 1,049,358,945.820   \n",
       "std    620,547,647.080   629,714,618.400 619,848,182.780   624,151,288.160   \n",
       "cv               0.570             0.600           0.630             0.590   \n",
       "\n",
       "                     9                10                11                12  \\\n",
       "mean 1,097,741,569.860 1,175,624,153.760 1,142,660,319.150 1,068,924,110.440   \n",
       "std    611,418,815.930   606,726,822.510   584,575,765.460   574,228,358.050   \n",
       "cv               0.560             0.520             0.510             0.540   \n",
       "\n",
       "                    13                14                15                16  \\\n",
       "mean 1,066,858,960.420 1,020,120,869.110 1,236,302,221.720 1,033,403,432.980   \n",
       "std    604,348,987.940   577,466,664.250   566,424,162.110   603,678,942.750   \n",
       "cv               0.570             0.570             0.460             0.580   \n",
       "\n",
       "                    17                18                19                20  \n",
       "mean 1,057,157,956.860 1,098,384,529.410 1,047,938,808.320 1,043,651,859.400  \n",
       "std    652,997,474.550   647,633,855.670   621,340,846.210   634,045,076.100  \n",
       "cv               0.620             0.590             0.590             0.610  "
      ]
     },
     "execution_count": 34,
     "metadata": {},
     "output_type": "execute_result"
    }
   ],
   "source": [
    "df = {f'{i+1}': params[\"CONG_CUBE\"][i].values() for i in range(20)}\n",
    "df = pd.DataFrame(data=df, index=params['CONG_CUBE'][0])\n",
    "df"
   ]
  },
  {
   "cell_type": "markdown",
   "metadata": {},
   "source": [
    "### Критерий хи квадрат"
   ]
  },
  {
   "cell_type": "markdown",
   "metadata": {},
   "source": [
    "Выборка принимает значения от 0 до 2147483647"
   ]
  },
  {
   "cell_type": "markdown",
   "metadata": {},
   "source": [
    "Оптимальное числое интервалов определяется с помомщью формулы (1+log_2(sampleSize))"
   ]
  },
  {
   "cell_type": "code",
   "execution_count": 9,
   "metadata": {},
   "outputs": [
    {
     "name": "stdout",
     "output_type": "stream",
     "text": [
      "8\n"
     ]
    }
   ],
   "source": [
    "samples_size = 100\n",
    "count_intervals = round(1+np.log2(samples_size))\n",
    "print(count_intervals)"
   ]
  },
  {
   "cell_type": "code",
   "execution_count": 10,
   "metadata": {},
   "outputs": [
    {
     "data": {
      "text/plain": [
       "[0,\n",
       " 268435455,\n",
       " 536870910,\n",
       " 805306365,\n",
       " 1073741820,\n",
       " 1342177275,\n",
       " 1610612730,\n",
       " 1879048185,\n",
       " 2147483640]"
      ]
     },
     "execution_count": 10,
     "metadata": {},
     "output_type": "execute_result"
    }
   ],
   "source": [
    "leng = 2147483647 // count_intervals\n",
    "x = [i*leng for i in range(0, count_intervals+1)]\n",
    "x"
   ]
  },
  {
   "cell_type": "code",
   "execution_count": 11,
   "metadata": {},
   "outputs": [],
   "source": [
    "chi_stat = {\"CONG_XOR\": [], \"CONG_CUBE\": []}"
   ]
  },
  {
   "cell_type": "code",
   "execution_count": 12,
   "metadata": {},
   "outputs": [],
   "source": [
    "def countChiStat(sample, type):\n",
    "    count = [0]*(len(x))\n",
    "    n = len(sample)\n",
    "    for elem in sample:\n",
    "        for i in range(1, len(x)):\n",
    "            if elem <= x[i] and elem >=x[i-1]:\n",
    "                count[i] += 1\n",
    "    sum = 0\n",
    "    for i in range(1, count_intervals+1):\n",
    "        sum += count_intervals * np.power(count[i], 2)\n",
    "    chi_stat[type].append(round(sum/samples_size-samples_size, 3))"
   ]
  },
  {
   "cell_type": "code",
   "execution_count": 13,
   "metadata": {},
   "outputs": [],
   "source": [
    "for line in samplesCong:\n",
    "    line = line.replace(\" \\n\", \"\")\n",
    "    sample = list(map(int, line.split(\" \")))\n",
    "    countChiStat(sample, \"CONG_XOR\")"
   ]
  },
  {
   "cell_type": "code",
   "execution_count": 14,
   "metadata": {},
   "outputs": [],
   "source": [
    "for line in samplesCongCube:\n",
    "    line = line.replace(\" \\n\", \"\")\n",
    "    sample = list(map(int, line.split(\" \")))\n",
    "    countChiStat(sample, \"CONG_CUBE\")"
   ]
  },
  {
   "cell_type": "code",
   "execution_count": 15,
   "metadata": {},
   "outputs": [
    {
     "name": "stdout",
     "output_type": "stream",
     "text": [
      "{'CONG_XOR': [4.48, 3.68, 4.32, 3.36, 2.56, 4.48, 6.4, 4.64, 10.08, 5.76, 4.0, 4.16, 7.84, 8.0, 4.64, 4.8, 9.12, 5.12, 6.56, 3.52], 'CONG_CUBE': [3.36, 4.0, 11.36, 4.8, 2.08, 3.68, 6.56, 3.52, 5.28, 5.12, 8.48, 4.96, 18.72, 7.68, 10.4, 10.4, 4.32, 8.96, 10.08, 12.64]}\n"
     ]
    }
   ],
   "source": [
    "print(chi_stat)"
   ]
  },
  {
   "cell_type": "code",
   "execution_count": 16,
   "metadata": {},
   "outputs": [],
   "source": [
    "percents = [0.01, 0.05, 0.25, 0.5, 0.75, 0.95, 0.99]\n",
    "percent_points = np.array([1.239, 2.167, 4.255, 6.346, 9.037, 14.07, 18.48])"
   ]
  },
  {
   "cell_type": "code",
   "execution_count": 30,
   "metadata": {},
   "outputs": [
    {
     "name": "stdout",
     "output_type": "stream",
     "text": [
      "Выборка №1 не противоречит гипотезе о случайности и равномерности ГПСЧ с вероятностью 25 %\n",
      "Выборка №2 не противоречит гипотезе о случайности и равномерности ГПСЧ с вероятностью 25 %\n",
      "Выборка №3 не противоречит гипотезе о случайности и равномерности ГПСЧ с вероятностью 25 %\n",
      "Выборка №4 не противоречит гипотезе о случайности и равномерности ГПСЧ с вероятностью 25 %\n",
      "Выборка №5 не противоречит гипотезе о случайности и равномерности ГПСЧ с вероятностью 5 %\n",
      "Выборка №6 не противоречит гипотезе о случайности и равномерности ГПСЧ с вероятностью 25 %\n",
      "Выборка №7 не противоречит гипотезе о случайности и равномерности ГПСЧ с вероятностью 50 %\n",
      "Выборка №8 не противоречит гипотезе о случайности и равномерности ГПСЧ с вероятностью 25 %\n",
      "Выборка №9 не противоречит гипотезе о случайности и равномерности ГПСЧ с вероятностью 75 %\n",
      "Выборка №10 не противоречит гипотезе о случайности и равномерности ГПСЧ с вероятностью 50 %\n",
      "Выборка №11 не противоречит гипотезе о случайности и равномерности ГПСЧ с вероятностью 25 %\n",
      "Выборка №12 не противоречит гипотезе о случайности и равномерности ГПСЧ с вероятностью 25 %\n",
      "Выборка №13 не противоречит гипотезе о случайности и равномерности ГПСЧ с вероятностью 75 %\n",
      "Выборка №14 не противоречит гипотезе о случайности и равномерности ГПСЧ с вероятностью 75 %\n",
      "Выборка №15 не противоречит гипотезе о случайности и равномерности ГПСЧ с вероятностью 25 %\n",
      "Выборка №16 не противоречит гипотезе о случайности и равномерности ГПСЧ с вероятностью 25 %\n",
      "Выборка №17 не противоречит гипотезе о случайности и равномерности ГПСЧ с вероятностью 75 %\n",
      "Выборка №18 не противоречит гипотезе о случайности и равномерности ГПСЧ с вероятностью 25 %\n",
      "Выборка №19 не противоречит гипотезе о случайности и равномерности ГПСЧ с вероятностью 50 %\n",
      "Выборка №20 не противоречит гипотезе о случайности и равномерности ГПСЧ с вероятностью 25 %\n"
     ]
    }
   ],
   "source": [
    "for i, stat in enumerate(chi_stat[\"CONG_XOR\"]):\n",
    "    if (stat < percent_points[0]) or (stat > percent_points[-1]):\n",
    "        print(f\"Выборка №{i+1} противоречит гипотезе о случайности и равномерности ГПСЧ\")\n",
    "    else:\n",
    "        print(f\"Выборка №{i+1} не противоречит гипотезе о случайности и равномерности ГПСЧ с вероятностью {int(percents[np.argmin(abs(percent_points - stat))]*100)} %\")\n",
    "    "
   ]
  },
  {
   "cell_type": "code",
   "execution_count": 32,
   "metadata": {},
   "outputs": [
    {
     "name": "stdout",
     "output_type": "stream",
     "text": [
      "Выборка №1 не противоречит гипотезе о случайности и равномерности ГПСЧ с вероятностью 25 %\n",
      "Выборка №2 не противоречит гипотезе о случайности и равномерности ГПСЧ с вероятностью 25 %\n",
      "Выборка №3 не противоречит гипотезе о случайности и равномерности ГПСЧ с вероятностью 75 %\n",
      "Выборка №4 не противоречит гипотезе о случайности и равномерности ГПСЧ с вероятностью 25 %\n",
      "Выборка №5 не противоречит гипотезе о случайности и равномерности ГПСЧ с вероятностью 5 %\n",
      "Выборка №6 не противоречит гипотезе о случайности и равномерности ГПСЧ с вероятностью 25 %\n",
      "Выборка №7 не противоречит гипотезе о случайности и равномерности ГПСЧ с вероятностью 50 %\n",
      "Выборка №8 не противоречит гипотезе о случайности и равномерности ГПСЧ с вероятностью 25 %\n",
      "Выборка №9 не противоречит гипотезе о случайности и равномерности ГПСЧ с вероятностью 25 %\n",
      "Выборка №10 не противоречит гипотезе о случайности и равномерности ГПСЧ с вероятностью 25 %\n",
      "Выборка №11 не противоречит гипотезе о случайности и равномерности ГПСЧ с вероятностью 75 %\n",
      "Выборка №12 не противоречит гипотезе о случайности и равномерности ГПСЧ с вероятностью 25 %\n",
      "Выборка №13 противоречит гипотезе о случайности и равномерности ГПСЧ\n",
      "Выборка №14 не противоречит гипотезе о случайности и равномерности ГПСЧ с вероятностью 50 %\n",
      "Выборка №15 не противоречит гипотезе о случайности и равномерности ГПСЧ с вероятностью 75 %\n",
      "Выборка №16 не противоречит гипотезе о случайности и равномерности ГПСЧ с вероятностью 75 %\n",
      "Выборка №17 не противоречит гипотезе о случайности и равномерности ГПСЧ с вероятностью 25 %\n",
      "Выборка №18 не противоречит гипотезе о случайности и равномерности ГПСЧ с вероятностью 75 %\n",
      "Выборка №19 не противоречит гипотезе о случайности и равномерности ГПСЧ с вероятностью 75 %\n",
      "Выборка №20 не противоречит гипотезе о случайности и равномерности ГПСЧ с вероятностью 95 %\n"
     ]
    }
   ],
   "source": [
    "for i, stat in enumerate(chi_stat[\"CONG_CUBE\"]):\n",
    "    if (stat < percent_points[0]) or (stat > percent_points[-1]):\n",
    "        print(f\"Выборка №{i+1} противоречит гипотезе о случайности и равномерности ГПСЧ\")\n",
    "    else:\n",
    "        print(f\"Выборка №{i+1} не противоречит гипотезе о случайности и равномерности ГПСЧ с вероятностью {int(percents[np.argmin(abs(percent_points - stat))] *100)} %\")\n",
    "    "
   ]
  },
  {
   "cell_type": "markdown",
   "metadata": {},
   "source": [
    "### Время"
   ]
  },
  {
   "cell_type": "code",
   "execution_count": 19,
   "metadata": {},
   "outputs": [],
   "source": [
    "file = open(\"timestamps.txt\")\n",
    "times = file.readlines()\n",
    "file.close()"
   ]
  },
  {
   "cell_type": "code",
   "execution_count": 20,
   "metadata": {},
   "outputs": [],
   "source": [
    "sizes = []\n",
    "times_xor = []\n",
    "times_cube = []\n",
    "times_std = []\n",
    "\n",
    "for line in times:\n",
    "    line = line.replace(\" \\n\", \"\")\n",
    "\n",
    "    size, time_cong_xor, time_cong_cube, time_std = map(int, line.split(\" \"))\n",
    "    sizes.append(size)\n",
    "    times_xor.append(time_cong_xor)\n",
    "    times_cube.append(time_cong_cube)\n",
    "    times_std.append(time_std)"
   ]
  },
  {
   "cell_type": "code",
   "execution_count": 21,
   "metadata": {},
   "outputs": [],
   "source": [
    "import matplotlib.pyplot as plt"
   ]
  },
  {
   "cell_type": "code",
   "execution_count": 22,
   "metadata": {},
   "outputs": [
    {
     "data": {
      "text/plain": [
       "array([6.47543272, 6.49677499, 7.69165682, 8.00168998, 7.52402142,\n",
       "       7.82164313])"
      ]
     },
     "execution_count": 22,
     "metadata": {},
     "output_type": "execute_result"
    }
   ],
   "source": [
    "times_cube = np.log(np.array(times_cube))\n",
    "times_std = np.log(np.array(times_std))\n",
    "times_xor = np.log(np.array(times_xor))\n",
    "\n",
    "\n",
    "times_cube"
   ]
  },
  {
   "cell_type": "code",
   "execution_count": 23,
   "metadata": {},
   "outputs": [],
   "source": [
    "plt.rcParams ['figure.figsize'] = [5, 10]\n"
   ]
  },
  {
   "cell_type": "code",
   "execution_count": 24,
   "metadata": {},
   "outputs": [
    {
     "data": {
      "image/png": "[encoded data removed]",
      "text/plain": [
       "<Figure size 500x1000 with 1 Axes>"
      ]
     },
     "metadata": {},
     "output_type": "display_data"
    }
   ],
   "source": [
    "plt.title(\"Зависимости времени генерации выборки\")\n",
    "plt.xlabel(\"Размерность массива\")\n",
    "plt.ylabel(\"Время, наносекунды\")\n",
    "plt.plot(sizes, times_xor, color=\"r\", marker=\"o\")\n",
    "plt.plot(sizes, times_cube, color=\"b\", marker=\"o\")\n",
    "plt.plot(sizes, times_std, color=\"g\", marker=\"o\")\n",
    "plt.legend([\"CongXor\", \"CongCube\", \"STD\"])\n",
    "plt.show()"
   ]
  },
  {
   "cell_type": "markdown",
   "metadata": {},
   "source": [
    "### DierHard"
   ]
  },
  {
   "cell_type": "code",
   "execution_count": 25,
   "metadata": {},
   "outputs": [],
   "source": [
    "line_1 = samplesCong[0]\n",
    "line_1 = line_1.replace(\" \\n\", \"\").replace(\" \", \"\\n\")\n",
    "file = open(\"sampleCongDiehard.txt\", \"w\")\n",
    "file.write(line_1)\n",
    "file.close()"
   ]
  },
  {
   "cell_type": "code",
   "execution_count": 26,
   "metadata": {},
   "outputs": [],
   "source": [
    "line_1 = samplesCongCube[0]\n",
    "line_1 = line_1.replace(\" \\n\", \"\").replace(\" \", \"\\n\")\n",
    "file = open(\"sampleCongCubeDiehard.txt\", \"w\")\n",
    "file.write(line_1)\n",
    "file.close()"
   ]
  },
  {
   "cell_type": "markdown",
   "metadata": {},
   "source": [
    "Проверка тестом Diehard кубического генератора"
   ]
  },
  {
   "cell_type": "markdown",
   "metadata": {},
   "source": [
    "#=============================================================================#\n",
    "\n",
    "\\#            dieharder version 3.31.1 Copyright 2003 Robert G. Brown          #\n",
    "\n",
    "#=============================================================================#\n",
    "\n",
    "rng\\_name    |           filename             |rands/second|\n",
    "\n",
    "mt19937|       sampleCongCubeDiehard.txt|  7.82e+07  |\n",
    "\n",
    "#=============================================================================#\n",
    "\n",
    "test\\_name   |ntup| tsamples |psamples|  p-value |Assessment\n",
    "\n",
    "#=============================================================================#\n",
    "\n",
    "diehard\\_birthdays|   0|       100|     100|0.75693146|  PASSED\n",
    "\n",
    "diehard\\_operm5|   0|   1000000|     100|0.34370603|  PASSED\n",
    "\n",
    "diehard\\_rank\\_32x32|   0|     40000|     100|0.08607894|  PASSED\n",
    "\n",
    "diehard\\_rank\\_6x8|   0|    100000|     100|0.98055970|  PASSED\n",
    "\n",
    "diehard\\_bitstream|   0|   2097152|     100|0.54369141|  PASSED\n",
    "\n",
    "diehard\\_opso|   0|   2097152|     100|0.56450429|  PASSED\n",
    "\n",
    "diehard\\_oqso|   0|   2097152|     100|0.97425425|  PASSED\n",
    "\n",
    "diehard\\_dna|   0|   2097152|     100|0.66788381|  PASSED\n",
    "\n",
    "diehard\\_count\\_1s\\_str|   0|    256000|     100|0.30410248|  PASSED\n",
    "\n",
    "diehard\\_count\\_1s\\_byt|   0|    256000|     100|0.05238663|  PASSED\n",
    "\n",
    "diehard\\_parking\\_lot|   0|     12000|     100|0.92308018|  PASSED\n",
    "\n",
    "diehard\\_2dsphere|   2|      8000|     100|0.48016075|  PASSED\n",
    "\n",
    "diehard\\_3dsphere|   3|      4000|     100|0.98953597|  PASSED\n",
    "\n",
    "diehard\\_squeeze|   0|    100000|     100|0.68046635|  PASSED\n",
    "\n",
    "diehard\\_sums|   0|       100|     100|0.08829665|  PASSED\n",
    "\n",
    "diehard\\_runs|   0|    100000|     100|0.58372756|  PASSED\n",
    "\n",
    "diehard\\_runs|   0|    100000|     100|0.97437158|  PASSED\n",
    "\n",
    "diehard\\_craps|   0|    200000|     100|0.52338151|  PASSED\n",
    "\n",
    "diehard\\_craps|   0|    200000|     100|0.64370248|  PASSED\n"
   ]
  },
  {
   "cell_type": "markdown",
   "metadata": {},
   "source": [
    "### Diehard для обычного конгруэнтного с XOR"
   ]
  },
  {
   "cell_type": "markdown",
   "metadata": {},
   "source": [
    "#=============================================================================#\n",
    "\n",
    "\\#            dieharder version 3.31.1 Copyright 2003 Robert G. Brown          #\n",
    "\n",
    "#=============================================================================#\n",
    "\n",
    "rng\\_name    |           filename             |rands/second|\n",
    "\n",
    "mt19937|           sampleCongDiehard.txt|  1.31e+08  |\n",
    "\n",
    "#=============================================================================#\n",
    "\n",
    "test\\_name   |ntup| tsamples |psamples|  p-value |Assessment\n",
    "\n",
    "#=============================================================================#\n",
    "\n",
    "diehard\\_birthdays|   0|       100|     100|0.59943514|  PASSED\n",
    "\n",
    "diehard\\_operm5|   0|   1000000|     100|0.22005638|  PASSED\n",
    "\n",
    "diehard\\_rank\\_32x32|   0|     40000|     100|0.15272452|  PASSED\n",
    "\n",
    "diehard\\_rank\\_6x8|   0|    100000|     100|0.94626846|  PASSED\n",
    "\n",
    "diehard\\_bitstream|   0|   2097152|     100|0.35362321|  PASSED\n",
    "\n",
    "diehard\\_opso|   0|   2097152|     100|0.81585795|  PASSED\n",
    "\n",
    "diehard\\_oqso|   0|   2097152|     100|0.21085178|  PASSED\n",
    "\n",
    "diehard\\_dna|   0|   2097152|     100|0.80001658|  PASSED\n",
    "\n",
    "diehard\\_count\\_1s\\_str|   0|    256000|     100|0.75214128|  PASSED\n",
    "\n",
    "diehard\\_count\\_1s\\_byt|   0|    256000|     100|0.80760754|  PASSED\n",
    "\n",
    "diehard\\_parking\\_lot|   0|     12000|     100|0.50512183|  PASSED\n",
    "\n",
    "diehard\\_2dsphere|   2|      8000|     100|0.65072356|  PASSED\n",
    "\n",
    "diehard\\_3dsphere|   3|      4000|     100|0.34089291|  PASSED\n",
    "\n",
    "diehard\\_squeeze|   0|    100000|     100|0.15187324|  PASSED\n",
    "\n",
    "diehard\\_sums|   0|       100|     100|0.18203887|  PASSED\n",
    "\n",
    "diehard\\_runs|   0|    100000|     100|0.86406667|  PASSED\n",
    "\n",
    "diehard\\_runs|   0|    100000|     100|0.92828109|  PASSED\n",
    "\n",
    "diehard\\_craps|   0|    200000|     100|0.55585713|  PASSED\n",
    "\n",
    "diehard\\_craps|   0|    200000|     100|0.31520968|  PASSED\n"
   ]
  },
  {
   "cell_type": "markdown",
   "metadata": {},
   "source": []
  }
 ],
 "metadata": {
  "kernelspec": {
   "display_name": "base",
   "language": "python",
   "name": "python3"
  },
  "language_info": {
   "codemirror_mode": {
    "name": "ipython",
    "version": 3
   },
   "file_extension": ".py",
   "mimetype": "text/x-python",
   "name": "python",
   "nbconvert_exporter": "python",
   "pygments_lexer": "ipython3",
   "version": "3.11.4"
  }
 },
 "nbformat": 4,
 "nbformat_minor": 2
}
